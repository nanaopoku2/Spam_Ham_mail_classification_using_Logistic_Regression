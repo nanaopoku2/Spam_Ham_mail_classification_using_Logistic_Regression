{
 "cells": [
  {
   "cell_type": "markdown",
   "id": "bd4dd402",
   "metadata": {},
   "source": [
    "## Import Dependecies"
   ]
  },
  {
   "cell_type": "code",
   "execution_count": 123,
   "id": "7acdac18",
   "metadata": {},
   "outputs": [],
   "source": [
    "# Regular EDA (exploratory data analysis) libraries\n",
    "import pandas as pd \n",
    "import numpy as np\n",
    "\n",
    "# Models from scikit-Learn \n",
    "from sklearn.linear_model import LogisticRegression\n",
    "from sklearn.feature_extraction.text import TfidfVectorizer\n",
    "\n",
    "# Model Evaluations\n",
    "from sklearn.metrics import accuracy_score\n",
    "from sklearn.model_selection import train_test_split"
   ]
  },
  {
   "cell_type": "code",
   "execution_count": 124,
   "id": "1b80c468",
   "metadata": {},
   "outputs": [],
   "source": [
    "raw_mail_data = pd.read_csv(r\"C:\\Users\\User\\Desktop\\data science projects\\Classification projects\\classification of mail\\Mail_data\\mail_data.csv\")"
   ]
  },
  {
   "cell_type": "code",
   "execution_count": 125,
   "id": "c20f6073",
   "metadata": {},
   "outputs": [
    {
     "name": "stdout",
     "output_type": "stream",
     "text": [
      "<class 'pandas.core.frame.DataFrame'>\n",
      "RangeIndex: 5572 entries, 0 to 5571\n",
      "Data columns (total 2 columns):\n",
      " #   Column    Non-Null Count  Dtype \n",
      "---  ------    --------------  ----- \n",
      " 0   Category  5572 non-null   object\n",
      " 1   Message   5572 non-null   object\n",
      "dtypes: object(2)\n",
      "memory usage: 87.2+ KB\n"
     ]
    }
   ],
   "source": [
    "raw_mail_data.info()"
   ]
  },
  {
   "cell_type": "code",
   "execution_count": 126,
   "id": "68aa3ba3",
   "metadata": {},
   "outputs": [
    {
     "name": "stdout",
     "output_type": "stream",
     "text": [
      "     Category                                            Message\n",
      "0         ham  Go until jurong point, crazy.. Available only ...\n",
      "1         ham                      Ok lar... Joking wif u oni...\n",
      "2        spam  Free entry in 2 a wkly comp to win FA Cup fina...\n",
      "3         ham  U dun say so early hor... U c already then say...\n",
      "4         ham  Nah I don't think he goes to usf, he lives aro...\n",
      "...       ...                                                ...\n",
      "5567     spam  This is the 2nd time we have tried 2 contact u...\n",
      "5568      ham               Will ü b going to esplanade fr home?\n",
      "5569      ham  Pity, * was in mood for that. So...any other s...\n",
      "5570      ham  The guy did some bitching but I acted like i'd...\n",
      "5571      ham                         Rofl. Its true to its name\n",
      "\n",
      "[5572 rows x 2 columns]\n"
     ]
    }
   ],
   "source": [
    "print(raw_mail_data)"
   ]
  },
  {
   "cell_type": "code",
   "execution_count": 127,
   "id": "c7bed6ce",
   "metadata": {},
   "outputs": [
    {
     "data": {
      "text/html": [
       "<div>\n",
       "<style scoped>\n",
       "    .dataframe tbody tr th:only-of-type {\n",
       "        vertical-align: middle;\n",
       "    }\n",
       "\n",
       "    .dataframe tbody tr th {\n",
       "        vertical-align: top;\n",
       "    }\n",
       "\n",
       "    .dataframe thead th {\n",
       "        text-align: right;\n",
       "    }\n",
       "</style>\n",
       "<table border=\"1\" class=\"dataframe\">\n",
       "  <thead>\n",
       "    <tr style=\"text-align: right;\">\n",
       "      <th></th>\n",
       "      <th>Category</th>\n",
       "      <th>Message</th>\n",
       "    </tr>\n",
       "  </thead>\n",
       "  <tbody>\n",
       "    <tr>\n",
       "      <th>0</th>\n",
       "      <td>ham</td>\n",
       "      <td>Go until jurong point, crazy.. Available only ...</td>\n",
       "    </tr>\n",
       "    <tr>\n",
       "      <th>1</th>\n",
       "      <td>ham</td>\n",
       "      <td>Ok lar... Joking wif u oni...</td>\n",
       "    </tr>\n",
       "    <tr>\n",
       "      <th>2</th>\n",
       "      <td>spam</td>\n",
       "      <td>Free entry in 2 a wkly comp to win FA Cup fina...</td>\n",
       "    </tr>\n",
       "    <tr>\n",
       "      <th>3</th>\n",
       "      <td>ham</td>\n",
       "      <td>U dun say so early hor... U c already then say...</td>\n",
       "    </tr>\n",
       "    <tr>\n",
       "      <th>4</th>\n",
       "      <td>ham</td>\n",
       "      <td>Nah I don't think he goes to usf, he lives aro...</td>\n",
       "    </tr>\n",
       "    <tr>\n",
       "      <th>...</th>\n",
       "      <td>...</td>\n",
       "      <td>...</td>\n",
       "    </tr>\n",
       "    <tr>\n",
       "      <th>5567</th>\n",
       "      <td>spam</td>\n",
       "      <td>This is the 2nd time we have tried 2 contact u...</td>\n",
       "    </tr>\n",
       "    <tr>\n",
       "      <th>5568</th>\n",
       "      <td>ham</td>\n",
       "      <td>Will ü b going to esplanade fr home?</td>\n",
       "    </tr>\n",
       "    <tr>\n",
       "      <th>5569</th>\n",
       "      <td>ham</td>\n",
       "      <td>Pity, * was in mood for that. So...any other s...</td>\n",
       "    </tr>\n",
       "    <tr>\n",
       "      <th>5570</th>\n",
       "      <td>ham</td>\n",
       "      <td>The guy did some bitching but I acted like i'd...</td>\n",
       "    </tr>\n",
       "    <tr>\n",
       "      <th>5571</th>\n",
       "      <td>ham</td>\n",
       "      <td>Rofl. Its true to its name</td>\n",
       "    </tr>\n",
       "  </tbody>\n",
       "</table>\n",
       "<p>5572 rows × 2 columns</p>\n",
       "</div>"
      ],
      "text/plain": [
       "     Category                                            Message\n",
       "0         ham  Go until jurong point, crazy.. Available only ...\n",
       "1         ham                      Ok lar... Joking wif u oni...\n",
       "2        spam  Free entry in 2 a wkly comp to win FA Cup fina...\n",
       "3         ham  U dun say so early hor... U c already then say...\n",
       "4         ham  Nah I don't think he goes to usf, he lives aro...\n",
       "...       ...                                                ...\n",
       "5567     spam  This is the 2nd time we have tried 2 contact u...\n",
       "5568      ham               Will ü b going to esplanade fr home?\n",
       "5569      ham  Pity, * was in mood for that. So...any other s...\n",
       "5570      ham  The guy did some bitching but I acted like i'd...\n",
       "5571      ham                         Rofl. Its true to its name\n",
       "\n",
       "[5572 rows x 2 columns]"
      ]
     },
     "execution_count": 127,
     "metadata": {},
     "output_type": "execute_result"
    }
   ],
   "source": [
    "raw_mail_data"
   ]
  },
  {
   "cell_type": "code",
   "execution_count": 148,
   "id": "888fd43a",
   "metadata": {},
   "outputs": [],
   "source": [
    "# replace the null values with a null string\n",
    "mail_data = raw_mail_data.where((pd.notnull(raw_mail_data)),'')"
   ]
  },
  {
   "cell_type": "code",
   "execution_count": 149,
   "id": "a4bb7e93",
   "metadata": {},
   "outputs": [
    {
     "data": {
      "text/html": [
       "<div>\n",
       "<style scoped>\n",
       "    .dataframe tbody tr th:only-of-type {\n",
       "        vertical-align: middle;\n",
       "    }\n",
       "\n",
       "    .dataframe tbody tr th {\n",
       "        vertical-align: top;\n",
       "    }\n",
       "\n",
       "    .dataframe thead th {\n",
       "        text-align: right;\n",
       "    }\n",
       "</style>\n",
       "<table border=\"1\" class=\"dataframe\">\n",
       "  <thead>\n",
       "    <tr style=\"text-align: right;\">\n",
       "      <th></th>\n",
       "      <th>Category</th>\n",
       "      <th>Message</th>\n",
       "    </tr>\n",
       "  </thead>\n",
       "  <tbody>\n",
       "    <tr>\n",
       "      <th>0</th>\n",
       "      <td>ham</td>\n",
       "      <td>Go until jurong point, crazy.. Available only ...</td>\n",
       "    </tr>\n",
       "    <tr>\n",
       "      <th>1</th>\n",
       "      <td>ham</td>\n",
       "      <td>Ok lar... Joking wif u oni...</td>\n",
       "    </tr>\n",
       "    <tr>\n",
       "      <th>2</th>\n",
       "      <td>spam</td>\n",
       "      <td>Free entry in 2 a wkly comp to win FA Cup fina...</td>\n",
       "    </tr>\n",
       "    <tr>\n",
       "      <th>3</th>\n",
       "      <td>ham</td>\n",
       "      <td>U dun say so early hor... U c already then say...</td>\n",
       "    </tr>\n",
       "    <tr>\n",
       "      <th>4</th>\n",
       "      <td>ham</td>\n",
       "      <td>Nah I don't think he goes to usf, he lives aro...</td>\n",
       "    </tr>\n",
       "  </tbody>\n",
       "</table>\n",
       "</div>"
      ],
      "text/plain": [
       "  Category                                            Message\n",
       "0      ham  Go until jurong point, crazy.. Available only ...\n",
       "1      ham                      Ok lar... Joking wif u oni...\n",
       "2     spam  Free entry in 2 a wkly comp to win FA Cup fina...\n",
       "3      ham  U dun say so early hor... U c already then say...\n",
       "4      ham  Nah I don't think he goes to usf, he lives aro..."
      ]
     },
     "execution_count": 149,
     "metadata": {},
     "output_type": "execute_result"
    }
   ],
   "source": [
    "mail_data.head()"
   ]
  },
  {
   "cell_type": "code",
   "execution_count": 151,
   "id": "e57f24ec",
   "metadata": {},
   "outputs": [
    {
     "data": {
      "text/plain": [
       "(5572, 2)"
      ]
     },
     "execution_count": 151,
     "metadata": {},
     "output_type": "execute_result"
    }
   ],
   "source": [
    "# Checking the number of Rows and Columns\n",
    "mail_data.shape"
   ]
  },
  {
   "cell_type": "markdown",
   "id": "707ac8aa",
   "metadata": {},
   "source": [
    "## Label Encoding"
   ]
  },
  {
   "cell_type": "code",
   "execution_count": 152,
   "id": "9ca68765",
   "metadata": {},
   "outputs": [],
   "source": [
    "# Label spam as 0; and ham as 1.\n",
    "mail_data.loc[mail_data['Category']=='spam','Category']=0\n",
    "mail_data.loc[mail_data['Category']=='ham', 'Category']=1"
   ]
  },
  {
   "cell_type": "markdown",
   "id": "a6c2798f",
   "metadata": {},
   "source": [
    "Spam =  0\n",
    "\n",
    "Ham  =   1"
   ]
  },
  {
   "cell_type": "code",
   "execution_count": 153,
   "id": "74bd6b01",
   "metadata": {},
   "outputs": [],
   "source": [
    "## separating the data as texts and label\n",
    "x = mail_data['Message']\n",
    "y = mail_data['Category']"
   ]
  },
  {
   "cell_type": "code",
   "execution_count": 154,
   "id": "eeb6a50c",
   "metadata": {},
   "outputs": [
    {
     "name": "stdout",
     "output_type": "stream",
     "text": [
      "0       Go until jurong point, crazy.. Available only ...\n",
      "1                           Ok lar... Joking wif u oni...\n",
      "2       Free entry in 2 a wkly comp to win FA Cup fina...\n",
      "3       U dun say so early hor... U c already then say...\n",
      "4       Nah I don't think he goes to usf, he lives aro...\n",
      "                              ...                        \n",
      "5567    This is the 2nd time we have tried 2 contact u...\n",
      "5568                 Will ü b going to esplanade fr home?\n",
      "5569    Pity, * was in mood for that. So...any other s...\n",
      "5570    The guy did some bitching but I acted like i'd...\n",
      "5571                           Rofl. Its true to its name\n",
      "Name: Message, Length: 5572, dtype: object\n"
     ]
    }
   ],
   "source": [
    "# x_values\n",
    "print(x)"
   ]
  },
  {
   "cell_type": "code",
   "execution_count": 156,
   "id": "04c9a99a",
   "metadata": {},
   "outputs": [
    {
     "name": "stdout",
     "output_type": "stream",
     "text": [
      "0       1\n",
      "1       1\n",
      "2       0\n",
      "3       1\n",
      "4       1\n",
      "       ..\n",
      "5567    0\n",
      "5568    1\n",
      "5569    1\n",
      "5570    1\n",
      "5571    1\n",
      "Name: Category, Length: 5572, dtype: object\n"
     ]
    }
   ],
   "source": [
    "# y_values\n",
    "print(y)"
   ]
  },
  {
   "cell_type": "code",
   "execution_count": 134,
   "id": "7cc2ab65",
   "metadata": {},
   "outputs": [],
   "source": [
    "# Splittig the data into train & test values\n",
    "x_train, x_test, y_train, y_test = train_test_split(x,y, test_size=0.2, random_state=3) "
   ]
  },
  {
   "cell_type": "code",
   "execution_count": 157,
   "id": "3fcdb557",
   "metadata": {},
   "outputs": [
    {
     "name": "stdout",
     "output_type": "stream",
     "text": [
      "(5572,)\n",
      "(4457,)\n",
      "(1115,)\n"
     ]
    }
   ],
   "source": [
    "print(x.shape)\n",
    "print(x_train.shape)\n",
    "print(x_test.shape)"
   ]
  },
  {
   "cell_type": "code",
   "execution_count": 158,
   "id": "d1c307f2",
   "metadata": {},
   "outputs": [],
   "source": [
    "# Transform the text data to feature vectors(numerical values) that can be used as input to the Logistic regression\n",
    "\n",
    "feature_extraction = TfidfVectorizer(min_df=1, stop_words='english', lowercase='True')\n",
    "\n",
    "x_train_features = feature_extraction.fit_transform(x_train)\n",
    "x_test_features = feature_extraction.transform(x_test)\n",
    "\n",
    "\n",
    "# convert Y_train and Y_test values as integers\n",
    "y_train = y_train.astype('int')\n",
    "y_test =  y_test.astype('int')\n",
    "\n"
   ]
  },
  {
   "cell_type": "code",
   "execution_count": 159,
   "id": "a54c0ad4",
   "metadata": {},
   "outputs": [
    {
     "name": "stdout",
     "output_type": "stream",
     "text": [
      "3075                  Don know. I did't msg him recently.\n",
      "1787    Do you know why god created gap between your f...\n",
      "1614                         Thnx dude. u guys out 2nite?\n",
      "4304                                      Yup i'm free...\n",
      "3266    44 7732584351, Do you want a New Nokia 3510i c...\n",
      "                              ...                        \n",
      "789     5 Free Top Polyphonic Tones call 087018728737,...\n",
      "968     What do u want when i come back?.a beautiful n...\n",
      "1667    Guess who spent all last night phasing in and ...\n",
      "3321    Eh sorry leh... I din c ur msg. Not sad alread...\n",
      "1688    Free Top ringtone -sub to weekly ringtone-get ...\n",
      "Name: Message, Length: 4457, dtype: object\n"
     ]
    }
   ],
   "source": [
    "print(x_train)"
   ]
  },
  {
   "cell_type": "code",
   "execution_count": 160,
   "id": "e2d051d1",
   "metadata": {},
   "outputs": [
    {
     "name": "stdout",
     "output_type": "stream",
     "text": [
      "  (0, 5413)\t0.6198254967574347\n",
      "  (0, 4456)\t0.4168658090846482\n",
      "  (0, 2224)\t0.413103377943378\n",
      "  (0, 3811)\t0.34780165336891333\n",
      "  (0, 2329)\t0.38783870336935383\n",
      "  (1, 4080)\t0.18880584110891163\n",
      "  (1, 3185)\t0.29694482957694585\n",
      "  (1, 3325)\t0.31610586766078863\n",
      "  (1, 2957)\t0.3398297002864083\n",
      "  (1, 2746)\t0.3398297002864083\n",
      "  (1, 918)\t0.22871581159877646\n",
      "  (1, 1839)\t0.2784903590561455\n",
      "  (1, 2758)\t0.3226407885943799\n",
      "  (1, 2956)\t0.33036995955537024\n",
      "  (1, 1991)\t0.33036995955537024\n",
      "  (1, 3046)\t0.2503712792613518\n",
      "  (1, 3811)\t0.17419952275504033\n",
      "  (2, 407)\t0.509272536051008\n",
      "  (2, 3156)\t0.4107239318312698\n",
      "  (2, 2404)\t0.45287711070606745\n",
      "  (2, 6601)\t0.6056811524587518\n",
      "  (3, 2870)\t0.5864269879324768\n",
      "  (3, 7414)\t0.8100020912469564\n",
      "  (4, 50)\t0.23633754072626942\n",
      "  (4, 5497)\t0.15743785051118356\n",
      "  :\t:\n",
      "  (4454, 4602)\t0.2669765732445391\n",
      "  (4454, 3142)\t0.32014451677763156\n",
      "  (4455, 2247)\t0.37052851863170466\n",
      "  (4455, 2469)\t0.35441545511837946\n",
      "  (4455, 5646)\t0.33545678464631296\n",
      "  (4455, 6810)\t0.29731757715898277\n",
      "  (4455, 6091)\t0.23103841516927642\n",
      "  (4455, 7113)\t0.30536590342067704\n",
      "  (4455, 3872)\t0.3108911491788658\n",
      "  (4455, 4715)\t0.30714144758811196\n",
      "  (4455, 6916)\t0.19636985317119715\n",
      "  (4455, 3922)\t0.31287563163368587\n",
      "  (4455, 4456)\t0.24920025316220423\n",
      "  (4456, 141)\t0.292943737785358\n",
      "  (4456, 647)\t0.30133182431707617\n",
      "  (4456, 6311)\t0.30133182431707617\n",
      "  (4456, 5569)\t0.4619395404299172\n",
      "  (4456, 6028)\t0.21034888000987115\n",
      "  (4456, 7154)\t0.24083218452280053\n",
      "  (4456, 7150)\t0.3677554681447669\n",
      "  (4456, 6249)\t0.17573831794959716\n",
      "  (4456, 6307)\t0.2752760476857975\n",
      "  (4456, 334)\t0.2220077711654938\n",
      "  (4456, 5778)\t0.16243064490100795\n",
      "  (4456, 2870)\t0.31523196273113385\n"
     ]
    }
   ],
   "source": [
    "print(x_train_features)"
   ]
  },
  {
   "cell_type": "code",
   "execution_count": 161,
   "id": "7d397b34",
   "metadata": {},
   "outputs": [
    {
     "name": "stdout",
     "output_type": "stream",
     "text": [
      "2632    URGENT! Your mobile No 077xxx WON a £2,000 Bon...\n",
      "454     Ok i will tell her to stay out. Yeah its been ...\n",
      "983     Congrats! 2 mobile 3G Videophones R yours. cal...\n",
      "1282        Am I the only one who doesn't stalk profiles?\n",
      "4610                               Y de asking like this.\n",
      "                              ...                        \n",
      "4827                        Haha, just what I was thinkin\n",
      "5291      Xy trying smth now. U eat already? We havent...\n",
      "3325    I don wake since. I checked that stuff and saw...\n",
      "3561    Lol I know! Hey someone did a great inpersonat...\n",
      "1136                      K do I need a login or anything\n",
      "Name: Message, Length: 1115, dtype: object\n"
     ]
    }
   ],
   "source": [
    "print(x_test)"
   ]
  },
  {
   "cell_type": "code",
   "execution_count": 162,
   "id": "53e01bfb",
   "metadata": {},
   "outputs": [
    {
     "name": "stdout",
     "output_type": "stream",
     "text": [
      "  (0, 7271)\t0.1940327008179069\n",
      "  (0, 6920)\t0.20571591693537986\n",
      "  (0, 5373)\t0.2365698724638063\n",
      "  (0, 5213)\t0.1988547357502182\n",
      "  (0, 4386)\t0.18353336340308998\n",
      "  (0, 1549)\t0.2646498848307188\n",
      "  (0, 1405)\t0.3176863938914351\n",
      "  (0, 1361)\t0.25132445289897426\n",
      "  (0, 1082)\t0.2451068436245027\n",
      "  (0, 1041)\t0.28016206931555726\n",
      "  (0, 405)\t0.2381316303003606\n",
      "  (0, 306)\t0.23975986557206702\n",
      "  (0, 20)\t0.30668032384591537\n",
      "  (0, 14)\t0.26797874471323896\n",
      "  (0, 9)\t0.2852706805264544\n",
      "  (0, 1)\t0.2381316303003606\n",
      "  (1, 7368)\t0.29957800964520975\n",
      "  (1, 6732)\t0.42473488678029325\n",
      "  (1, 6588)\t0.3298937975962767\n",
      "  (1, 6507)\t0.26731535902873493\n",
      "  (1, 6214)\t0.3621564482127515\n",
      "  (1, 4729)\t0.22965776503163893\n",
      "  (1, 4418)\t0.3457696891316818\n",
      "  (1, 3491)\t0.496093956101028\n",
      "  (2, 7205)\t0.22341717215670331\n",
      "  :\t:\n",
      "  (1110, 3167)\t0.5718357066163949\n",
      "  (1111, 7353)\t0.4991205841293424\n",
      "  (1111, 6787)\t0.40050175714278885\n",
      "  (1111, 6033)\t0.4714849709283488\n",
      "  (1111, 3227)\t0.44384935772735523\n",
      "  (1111, 2440)\t0.4137350055985486\n",
      "  (1112, 7071)\t0.33558524648843113\n",
      "  (1112, 6777)\t0.32853717524096393\n",
      "  (1112, 6297)\t0.3056896872268727\n",
      "  (1112, 5778)\t0.22807428098549426\n",
      "  (1112, 5695)\t0.3381604952481646\n",
      "  (1112, 5056)\t0.2559183043595413\n",
      "  (1112, 4170)\t0.3307835623173863\n",
      "  (1112, 2329)\t0.241856898377491\n",
      "  (1112, 1683)\t0.4017087436272034\n",
      "  (1112, 1109)\t0.35334496762883244\n",
      "  (1113, 4080)\t0.3045947361955407\n",
      "  (1113, 4038)\t0.37023520529413706\n",
      "  (1113, 3811)\t0.28103080586555096\n",
      "  (1113, 3281)\t0.33232508601719535\n",
      "  (1113, 3113)\t0.33840833425155675\n",
      "  (1113, 2852)\t0.5956422931588335\n",
      "  (1113, 2224)\t0.3337959267435311\n",
      "  (1114, 4557)\t0.5196253874825217\n",
      "  (1114, 4033)\t0.8543942045002639\n"
     ]
    }
   ],
   "source": [
    "print(x_test_features)"
   ]
  },
  {
   "cell_type": "markdown",
   "id": "59a9b73c",
   "metadata": {},
   "source": [
    "## Training The Model\n",
    "\n",
    "## Logistic Regrestion()"
   ]
  },
  {
   "cell_type": "code",
   "execution_count": 163,
   "id": "cfa4e8b5",
   "metadata": {},
   "outputs": [],
   "source": [
    "model = LogisticRegression()"
   ]
  },
  {
   "cell_type": "code",
   "execution_count": 164,
   "id": "9982942a",
   "metadata": {},
   "outputs": [
    {
     "data": {
      "text/plain": [
       "LogisticRegression()"
      ]
     },
     "execution_count": 164,
     "metadata": {},
     "output_type": "execute_result"
    }
   ],
   "source": [
    "# training the Logistic Regression model with the training data\n",
    "model.fit(x_train_features, y_train)"
   ]
  },
  {
   "cell_type": "markdown",
   "id": "b3fb84a3",
   "metadata": {},
   "source": [
    "## Evaluating the model"
   ]
  },
  {
   "cell_type": "code",
   "execution_count": 165,
   "id": "3221e75e",
   "metadata": {},
   "outputs": [],
   "source": [
    "prediction_on_training_data = model.predict(x_train_features)\n",
    "accuracy_on_training_data = accuracy_score(y_train, prediction_on_training_data)"
   ]
  },
  {
   "cell_type": "code",
   "execution_count": 166,
   "id": "1037f20d",
   "metadata": {},
   "outputs": [
    {
     "name": "stdout",
     "output_type": "stream",
     "text": [
      "Accuracy on training data: 0.9670181736594121\n"
     ]
    }
   ],
   "source": [
    "print('Accuracy on training data:', accuracy_on_training_data)"
   ]
  },
  {
   "cell_type": "code",
   "execution_count": 171,
   "id": "46756df3",
   "metadata": {},
   "outputs": [
    {
     "name": "stdout",
     "output_type": "stream",
     "text": [
      "Accuracy on test data 0.9659192825112107\n"
     ]
    }
   ],
   "source": [
    "# # prediction on test data\n",
    "prediction_on_test_data = model.predict(x_test_features)\n",
    "accuracy_on_test_data = accuracy_score(y_test, prediction_on_test_data)\n",
    "\n",
    "print('Accuracy on test data', accuracy_on_test_data)"
   ]
  },
  {
   "cell_type": "markdown",
   "id": "68c34afc",
   "metadata": {},
   "source": [
    "## Building a Predict system"
   ]
  },
  {
   "cell_type": "code",
   "execution_count": 172,
   "id": "36e8ed81",
   "metadata": {},
   "outputs": [
    {
     "name": "stdout",
     "output_type": "stream",
     "text": [
      "[1]\n",
      "Ham mail\n"
     ]
    }
   ],
   "source": [
    "input_mail = [\"I've been searching for the right words to thank you for this breather. I promise i wont take your help for granted and will fulfil my promise. You have been wonderful and a blessing at all times\"]\n",
    "\n",
    "# convert text to feature vectors\n",
    "input_data_features = feature_extraction.transform(input_mail)\n",
    "\n",
    "# making prediction\n",
    "prediction = model.predict(input_data_features)\n",
    "print(prediction)\n",
    "\n",
    "\n",
    "if (prediction[0]==1):\n",
    "  print('Ham mail')\n",
    "\n",
    "else:\n",
    "  print('Spam mail')"
   ]
  },
  {
   "cell_type": "code",
   "execution_count": null,
   "id": "25803f4c",
   "metadata": {},
   "outputs": [],
   "source": []
  },
  {
   "cell_type": "code",
   "execution_count": null,
   "id": "22503a0d",
   "metadata": {},
   "outputs": [],
   "source": []
  }
 ],
 "metadata": {
  "kernelspec": {
   "display_name": "Python 3 (ipykernel)",
   "language": "python",
   "name": "python3"
  },
  "language_info": {
   "codemirror_mode": {
    "name": "ipython",
    "version": 3
   },
   "file_extension": ".py",
   "mimetype": "text/x-python",
   "name": "python",
   "nbconvert_exporter": "python",
   "pygments_lexer": "ipython3",
   "version": "3.9.13"
  }
 },
 "nbformat": 4,
 "nbformat_minor": 5
}
